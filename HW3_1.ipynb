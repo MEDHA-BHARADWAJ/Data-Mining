{
  "nbformat": 4,
  "nbformat_minor": 0,
  "metadata": {
    "colab": {
      "name": "HW3-1-2.ipynb",
      "provenance": []
    },
    "kernelspec": {
      "name": "python3",
      "display_name": "Python 3"
    },
    "language_info": {
      "name": "python"
    }
  },
  "cells": [
    {
      "cell_type": "code",
      "metadata": {
        "id": "9zjnpF3p09FE"
      },
      "source": [
        "import numpy as np\n",
        "import pandas as pd\n",
        "import statsmodels.api as sm\n",
        "import matplotlib.pyplot as plt\n",
        "import seaborn as sns\n",
        "sns.set()\n",
        "from sklearn.cluster import KMeans\n"
      ],
      "execution_count": 22,
      "outputs": []
    },
    {
      "cell_type": "code",
      "metadata": {
        "id": "Taq-C_qX1Dmi"
      },
      "source": [
        "data=open(\"/content/drive/MyDrive/Data Mining/HW3-1_iris_new_data.txt\",\"r\")\n",
        "data=data.readlines()\n",
        "print(data)"
      ],
      "execution_count": null,
      "outputs": []
    },
    {
      "cell_type": "code",
      "metadata": {
        "id": "z5xz7huB1FqC"
      },
      "source": [
        "d = []\n",
        "for l in data:\n",
        "    s=str(l[0:len(l)-1])\n",
        "    d.append(s)\n",
        "print(d)"
      ],
      "execution_count": null,
      "outputs": []
    },
    {
      "cell_type": "code",
      "metadata": {
        "id": "4aFyO9CL1lCs"
      },
      "source": [
        "test = []\n",
        "\n",
        "k = 0\n",
        "for i in d:\n",
        "  y = i.split()\n",
        "  test.append(y)\n",
        "print(test)\n",
        "\n",
        "#print(test[0][1])"
      ],
      "execution_count": null,
      "outputs": []
    },
    {
      "cell_type": "code",
      "metadata": {
        "id": "jSSGGJVb1o7J"
      },
      "source": [
        "newList = []\n",
        "listSize = len(test)\n",
        "for i in range(0, listSize):\n",
        "    newList.append([])\n",
        "    for j in range(0, 4):\n",
        "        newList[i].append(float(test[i][j]))\n",
        "print(newList)"
      ],
      "execution_count": null,
      "outputs": []
    },
    {
      "cell_type": "code",
      "metadata": {
        "id": "OzLBPIMV1wLg"
      },
      "source": [
        "col = ['a','b','c','d']\n",
        "data = pd.DataFrame(newList)\n",
        "data.columns = col\n",
        "print(data)"
      ],
      "execution_count": null,
      "outputs": []
    },
    {
      "cell_type": "code",
      "metadata": {
        "id": "IXshmK8N2iH8"
      },
      "source": [
        "plt.scatter(data['a'],data['b'])\n",
        "plt.show()"
      ],
      "execution_count": null,
      "outputs": []
    },
    {
      "cell_type": "code",
      "metadata": {
        "id": "ISK-LaQe3CLV"
      },
      "source": [
        "kmeans = KMeans(3)\n",
        "kmeans.fit(data)"
      ],
      "execution_count": null,
      "outputs": []
    },
    {
      "cell_type": "code",
      "metadata": {
        "id": "IrzkAG9kQUeo"
      },
      "source": [
        ""
      ],
      "execution_count": null,
      "outputs": []
    },
    {
      "cell_type": "code",
      "metadata": {
        "id": "DyJ5JQHK3vYk"
      },
      "source": [
        "identified_clusters = kmeans.fit_predict(data)\n",
        "identified_clusters"
      ],
      "execution_count": null,
      "outputs": []
    },
    {
      "cell_type": "code",
      "metadata": {
        "id": "FBHuy3Xy3_JE"
      },
      "source": [
        "data_with_clusters = data.copy()\n",
        "data_with_clusters['Clusters'] = identified_clusters \n",
        "plt.scatter(data_with_clusters['a'],data_with_clusters['b'],c=data_with_clusters['Clusters'],cmap='rainbow')"
      ],
      "execution_count": null,
      "outputs": []
    },
    {
      "cell_type": "code",
      "metadata": {
        "id": "VVWYNdxw4Inv"
      },
      "source": [
        "print(identified_clusters)"
      ],
      "execution_count": null,
      "outputs": []
    },
    {
      "cell_type": "code",
      "metadata": {
        "colab": {
          "base_uri": "https://localhost:8080/",
          "height": 285
        },
        "id": "4fnlBQCnQde3",
        "outputId": "fd57a01f-d564-46b8-d642-1d6074ffb828"
      },
      "source": [
        "sse = {}\n",
        "for k in range(1, 10):\n",
        "    kmeans = KMeans(n_clusters=k, max_iter=1000).fit(data)\n",
        "    data[\"clusters\"] = kmeans.labels_\n",
        "    #print(data[\"clusters\"])\n",
        "    sse[k] = kmeans.inertia_ # Inertia: Sum of distances of samples to their closest cluster center\n",
        "plt.figure()\n",
        "plt.plot(list(sse.keys()), list(sse.values()))\n",
        "plt.xlabel(\"Number of cluster\")\n",
        "plt.ylabel(\"SSE\")\n",
        "plt.show()"
      ],
      "execution_count": 30,
      "outputs": [
        {
          "output_type": "display_data",
          "data": {
            "image/png": "[encoded data removed]",
            "text/plain": [
              "<Figure size 432x288 with 1 Axes>"
            ]
          },
          "metadata": {}
        }
      ]
    },
    {
      "cell_type": "code",
      "metadata": {
        "id": "_yYjZMru4Xzh"
      },
      "source": [
        "f = open(\"result_cluster.txt\", \"w\")\n",
        "for i in list(identified_clusters):\n",
        "    if i==0:\n",
        "        f.write(\"1\\n\")\n",
        "    if i==1:\n",
        "        f.write(\"2\\n\")\n",
        "    if i==2:\n",
        "        f.write(\"3\\n\")\n",
        "f.close()"
      ],
      "execution_count": 29,
      "outputs": []
    }
  ]
}