{
  "nbformat": 4,
  "nbformat_minor": 0,
  "metadata": {
    "colab": {
      "name": "HW3-2-1.ipynb",
      "provenance": []
    },
    "kernelspec": {
      "name": "python3",
      "display_name": "Python 3"
    },
    "language_info": {
      "name": "python"
    }
  },
  "cells": [
    {
      "cell_type": "code",
      "metadata": {
        "id": "msrvx7Pj5gCj"
      },
      "source": [
        "import numpy as np\n",
        "import pandas as pd\n",
        "import statsmodels.api as sm\n",
        "import matplotlib.pyplot as plt\n",
        "import seaborn as sns\n",
        "sns.set()\n",
        "from sklearn.cluster import KMeans\n",
        "from sklearn.decomposition import PCA\n"
      ],
      "execution_count": 224,
      "outputs": []
    },
    {
      "cell_type": "code",
      "metadata": {
        "id": "VOyHxRh75q43"
      },
      "source": [
        "data=open(\"/content/drive/MyDrive/Data Mining/HW3-2_image_new_test.txt\",\"r\")\n",
        "data=data.readlines()\n",
        "print(len(data))\n",
        "print(data[0])"
      ],
      "execution_count": null,
      "outputs": []
    },
    {
      "cell_type": "code",
      "metadata": {
        "id": "jUqsIs8r7T1G"
      },
      "source": [
        "d = []\n",
        "for l in data:\n",
        "    s=str(l[0:len(l)-1])\n",
        "    d.append(s)\n",
        "print(d[0])"
      ],
      "execution_count": null,
      "outputs": []
    },
    {
      "cell_type": "code",
      "metadata": {
        "id": "H6FA-9I_6cKj"
      },
      "source": [
        "test = []\n",
        "\n",
        "for i in d:\n",
        "  y = i.split(',')\n",
        "  test.append(y)\n",
        "print(test[0])"
      ],
      "execution_count": null,
      "outputs": []
    },
    {
      "cell_type": "code",
      "metadata": {
        "id": "rXb890m1601B"
      },
      "source": [
        "newList = []\n",
        "listSize = len(test)\n",
        "for i in range(0, listSize):\n",
        "    newList.append([])\n",
        "    for j in range(0, 784):\n",
        "        newList[i].append(int(test[i][j]))\n",
        "print(newList[0][0])"
      ],
      "execution_count": null,
      "outputs": []
    },
    {
      "cell_type": "code",
      "metadata": {
        "colab": {
          "base_uri": "https://localhost:8080/"
        },
        "id": "iF4_v8hVcE88",
        "outputId": "515aff89-4d30-438a-f8b0-6bdf3fda2af7"
      },
      "source": [
        "print(newList[3][600])"
      ],
      "execution_count": 213,
      "outputs": [
        {
          "output_type": "stream",
          "name": "stdout",
          "text": [
            "254\n"
          ]
        }
      ]
    },
    {
      "cell_type": "code",
      "metadata": {
        "colab": {
          "base_uri": "https://localhost:8080/"
        },
        "id": "EhYgSJhAcrNK",
        "outputId": "31931ae6-db1b-46f2-84a6-57eb5a05109f"
      },
      "source": [
        "print(600%28)"
      ],
      "execution_count": 214,
      "outputs": [
        {
          "output_type": "stream",
          "name": "stdout",
          "text": [
            "12\n"
          ]
        }
      ]
    },
    {
      "cell_type": "code",
      "metadata": {
        "colab": {
          "base_uri": "https://localhost:8080/"
        },
        "id": "F8qx3jlPcvh_",
        "outputId": "8c935e32-9edc-4ea5-9583-0a715a05a14a"
      },
      "source": [
        "print(600/28)"
      ],
      "execution_count": 215,
      "outputs": [
        {
          "output_type": "stream",
          "name": "stdout",
          "text": [
            "21.428571428571427\n"
          ]
        }
      ]
    },
    {
      "cell_type": "code",
      "metadata": {
        "id": "l1dNRwM4hYKR"
      },
      "source": [
        "q = newList\n",
        "i = 0\n",
        "while i < 10000:\n",
        "  j = 0\n",
        "  while j < 784:\n",
        "    if j%10 == 0:\n",
        "      q[i][j] = q[i][j] * 10000\n",
        "    if j%11 == 0:\n",
        "      q[i][j] = q[i][j] * 10000\n",
        "    if j%12 == 0:\n",
        "      q[i][j] = q[i][j] * 10000\n",
        "    if j%13 == 0:\n",
        "      q[i][j] = q[i][j] * 10000\n",
        "    if j%14 == 0:\n",
        "      q[i][j] = q[i][j] * 10000\n",
        "    if j%15 == 0:\n",
        "      q[i][j] = q[i][j] * 10000\n",
        "    j += 1\n",
        "  i += 1\n",
        "\n",
        "print(q[3][600])"
      ],
      "execution_count": null,
      "outputs": []
    },
    {
      "cell_type": "code",
      "metadata": {
        "id": "ULAZ6tKyE8Ei"
      },
      "source": [
        "n = []\n",
        "i = 0 \n",
        "j = 0\n",
        "for i in range(0, 10000):\n",
        "  r = []\n",
        "  j = 13\n",
        "  while j < 783:\n",
        "    r.append(newList[i][j])\n",
        "    j += 28\n",
        "  n.append(r)\n",
        "    \n",
        "\n",
        "print(n[7])"
      ],
      "execution_count": null,
      "outputs": []
    },
    {
      "cell_type": "code",
      "metadata": {
        "id": "xUS8w6MOHVYI"
      },
      "source": [
        "newList = n"
      ],
      "execution_count": 119,
      "outputs": []
    },
    {
      "cell_type": "code",
      "metadata": {
        "id": "V1liZMijiMjh"
      },
      "source": [
        "newList = q"
      ],
      "execution_count": 230,
      "outputs": []
    },
    {
      "cell_type": "code",
      "metadata": {
        "id": "JiqhjeQW74hk"
      },
      "source": [
        "#col = ['a','b','c','d']\n",
        "data = pd.DataFrame(newList)\n",
        "#data.columns = col\n",
        "print(data)"
      ],
      "execution_count": null,
      "outputs": []
    },
    {
      "cell_type": "code",
      "metadata": {
        "id": "G7zwZrKH8I3q"
      },
      "source": [
        "kmeans = KMeans(n_clusters=10, max_iter=300)\n",
        "kmeans.fit(data)"
      ],
      "execution_count": null,
      "outputs": []
    },
    {
      "cell_type": "code",
      "metadata": {
        "id": "PfPg8uC7RBZ0"
      },
      "source": [
        "kmeans = KMeans(n_clusters=10, max_iter=500)\n",
        "kmeans.fit(data)"
      ],
      "execution_count": null,
      "outputs": []
    },
    {
      "cell_type": "code",
      "metadata": {
        "id": "ActSG6u4RD3Q"
      },
      "source": [
        "kmeans = KMeans(n_clusters=10, max_iter=800)\n",
        "kmeans.fit(data)"
      ],
      "execution_count": null,
      "outputs": []
    },
    {
      "cell_type": "code",
      "metadata": {
        "colab": {
          "base_uri": "https://localhost:8080/"
        },
        "id": "QEPyXuLKR_oT",
        "outputId": "c722ec3a-8464-4973-df8c-7ca8f96069a8"
      },
      "source": [
        "kmeans = KMeans(n_clusters=10, max_iter=2000)\n",
        "kmeans.fit(data)"
      ],
      "execution_count": 232,
      "outputs": [
        {
          "output_type": "execute_result",
          "data": {
            "text/plain": [
              "KMeans(algorithm='auto', copy_x=True, init='k-means++', max_iter=2000,\n",
              "       n_clusters=10, n_init=10, n_jobs=None, precompute_distances='auto',\n",
              "       random_state=None, tol=0.0001, verbose=0)"
            ]
          },
          "metadata": {},
          "execution_count": 232
        }
      ]
    },
    {
      "cell_type": "code",
      "metadata": {
        "id": "bv7hdp55VisM"
      },
      "source": [
        "kmeans = KMeans(init=\"k-means++\", n_clusters=10, n_init=4,max_iter=2000,\n",
        "                random_state=0)"
      ],
      "execution_count": 173,
      "outputs": []
    },
    {
      "cell_type": "code",
      "metadata": {
        "id": "YHDhnQmXVzYc"
      },
      "source": [
        "kmeans = KMeans(init=\"random\", n_clusters=10, n_init=4, max_iter=2000, random_state=0)"
      ],
      "execution_count": 184,
      "outputs": []
    },
    {
      "cell_type": "code",
      "metadata": {
        "id": "RK3fegMVV1rS"
      },
      "source": [
        "pca = PCA(n_components=10).fit(data)\n",
        "kmeans = KMeans(init=pca.components_, n_clusters=10,max_iter=2000, n_init=1)"
      ],
      "execution_count": 189,
      "outputs": []
    },
    {
      "cell_type": "code",
      "metadata": {
        "id": "77DiGvg0V5gV"
      },
      "source": [
        "kmeans.fit(data)"
      ],
      "execution_count": null,
      "outputs": []
    },
    {
      "cell_type": "code",
      "metadata": {
        "colab": {
          "base_uri": "https://localhost:8080/"
        },
        "id": "TUCsbijGTPYv",
        "outputId": "aa7d12ea-08f8-45a9-a4cc-d33842828a1a"
      },
      "source": [
        "identified_clusters = kmeans.labels_\n",
        "print(identified_clusters)"
      ],
      "execution_count": 233,
      "outputs": [
        {
          "output_type": "stream",
          "name": "stdout",
          "text": [
            "[7 2 8 ... 2 2 8]\n"
          ]
        }
      ]
    },
    {
      "cell_type": "code",
      "metadata": {
        "id": "2L_EU58eJATW"
      },
      "source": [
        "from sklearn.cluster import MiniBatchKMeans\n",
        "kmeans = MiniBatchKMeans(n_clusters=10,\n",
        "                         random_state=0,\n",
        "                          batch_size=6,\n",
        "                          max_iter=10).fit(data)"
      ],
      "execution_count": 135,
      "outputs": []
    },
    {
      "cell_type": "code",
      "metadata": {
        "colab": {
          "base_uri": "https://localhost:8080/"
        },
        "id": "QAyPrejf8MvB",
        "outputId": "3e9aaffd-3a9d-4efa-97e4-33b812b4e525"
      },
      "source": [
        "identified_clusters = kmeans.fit_predict(data)\n",
        "identified_clusters"
      ],
      "execution_count": 147,
      "outputs": [
        {
          "output_type": "execute_result",
          "data": {
            "text/plain": [
              "array([4, 8, 4, ..., 4, 4, 3], dtype=int32)"
            ]
          },
          "metadata": {},
          "execution_count": 147
        }
      ]
    },
    {
      "cell_type": "code",
      "metadata": {
        "id": "NrkCO1w38Z85"
      },
      "source": [
        "data_with_clusters = data.copy()\n",
        "data_with_clusters['Clusters'] = identified_clusters \n",
        "#plt.scatter(data_with_clusters['a'],data_with_clusters['b'],c=data_with_clusters['Clusters'],cmap='rainbow')"
      ],
      "execution_count": 139,
      "outputs": []
    },
    {
      "cell_type": "code",
      "metadata": {
        "colab": {
          "base_uri": "https://localhost:8080/"
        },
        "id": "59Z38yH08fmP",
        "outputId": "6dcf3c1d-4494-4c8a-d72e-042cca07a4fe"
      },
      "source": [
        "print(max(identified_clusters))"
      ],
      "execution_count": 234,
      "outputs": [
        {
          "output_type": "stream",
          "name": "stdout",
          "text": [
            "9\n"
          ]
        }
      ]
    },
    {
      "cell_type": "code",
      "metadata": {
        "id": "5MNqXZtMQk3j"
      },
      "source": [
        "sse = {}\n",
        "for k in range(2, 20):\n",
        "    kmeans = KMeans(n_clusters=k, max_iter=2000).fit(data)\n",
        "    data[\"clusters\"] = kmeans.labels_\n",
        "    #print(data[\"clusters\"])\n",
        "    sse[k] = kmeans.inertia_ # Inertia: Sum of distances of samples to their closest cluster center\n",
        "plt.figure()\n",
        "plt.plot(list(sse.keys()), list(sse.values()))\n",
        "plt.xlabel(\"Number of cluster\")\n",
        "plt.ylabel(\"SSE\")\n",
        "plt.show()"
      ],
      "execution_count": null,
      "outputs": []
    },
    {
      "cell_type": "code",
      "metadata": {
        "colab": {
          "base_uri": "https://localhost:8080/"
        },
        "id": "rC2E-jelWr7B",
        "outputId": "f2416d11-d8aa-45cb-bd12-13ffc38d5322"
      },
      "source": [
        "print(kmeans.inertia_)\n"
      ],
      "execution_count": 235,
      "outputs": [
        {
          "output_type": "stream",
          "name": "stdout",
          "text": [
            "1.6041393874356588e+37\n"
          ]
        }
      ]
    },
    {
      "cell_type": "code",
      "metadata": {
        "colab": {
          "base_uri": "https://localhost:8080/"
        },
        "id": "ax1GUIv48rr6",
        "outputId": "bdc0740f-2db1-4f4b-8cce-64b6a4c1ac94"
      },
      "source": [
        "i = 0\n",
        "while i < 10000:\n",
        "  identified_clusters[i] = identified_clusters[i]+1\n",
        "  i += 1\n",
        "\n",
        "print(max(identified_clusters))"
      ],
      "execution_count": 236,
      "outputs": [
        {
          "output_type": "stream",
          "name": "stdout",
          "text": [
            "10\n"
          ]
        }
      ]
    },
    {
      "cell_type": "code",
      "metadata": {
        "id": "stSfxJ8s9Btg"
      },
      "source": [
        "f = open(\"result_cluster_2.txt\", \"w\")\n",
        "for i in list(identified_clusters):\n",
        "    if i==1:\n",
        "        f.write(\"1\\n\")\n",
        "    if i==2:\n",
        "        f.write(\"2\\n\")\n",
        "    if i==3:\n",
        "        f.write(\"3\\n\")\n",
        "    if i==4:\n",
        "        f.write(\"4\\n\")\n",
        "    if i==5:\n",
        "        f.write(\"5\\n\")\n",
        "    if i==6:\n",
        "        f.write(\"6\\n\")\n",
        "    if i==7:\n",
        "        f.write(\"7\\n\")\n",
        "    if i==8:\n",
        "        f.write(\"8\\n\")\n",
        "    if i==9:\n",
        "        f.write(\"9\\n\")\n",
        "    if i==10:\n",
        "        f.write(\"10\\n\")\n",
        "f.close()"
      ],
      "execution_count": 237,
      "outputs": []
    }
  ]
}