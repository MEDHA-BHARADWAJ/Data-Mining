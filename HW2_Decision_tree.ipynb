{
  "nbformat": 4,
  "nbformat_minor": 0,
  "metadata": {
    "colab": {
      "name": "HW2_Decision_tree.ipynb",
      "provenance": [],
      "collapsed_sections": []
    },
    "kernelspec": {
      "name": "python3",
      "display_name": "Python 3"
    },
    "language_info": {
      "name": "python"
    }
  },
  "cells": [
    {
      "cell_type": "code",
      "metadata": {
        "id": "PxLHIrJvumqA"
      },
      "source": [
        "import io\n",
        "import csv\n",
        "import string\n",
        "import pandas as pd\n",
        "import sklearn\n",
        "import numpy as np\n",
        "!apt-get install graphviz\n",
        "!pip install dtreeviz\n",
        "\n",
        "from sklearn.datasets import *\n",
        "from dtreeviz.trees import *\n",
        "from IPython.core.display import display, HTML\n",
        "from sklearn.ensemble import GradientBoostingClassifier\n",
        "from sklearn.datasets import make_hastie_10_2\n",
        "\n",
        "from sklearn.tree import DecisionTreeClassifier # Import Decision Tree Classifier\n",
        "from sklearn.model_selection import train_test_split # Import train_test_split function\n",
        "from sklearn import metrics #Import scikit-learn metrics module for accuracy calculation"
      ],
      "execution_count": null,
      "outputs": []
    },
    {
      "cell_type": "code",
      "metadata": {
        "id": "M8_qId_zuxxL"
      },
      "source": [
        "file = open(\"/content/drive/MyDrive/Data Mining/HW2_credit_train.csv\",\"r\")\n",
        "col_names = ['id','yag','workhrs','val','occ','gain','loss','ms','emptyp','edytyp','race','gender','credit']\n",
        "trainingData = pd.read_csv(file)\n",
        "\n",
        "trainingData =  pd.DataFrame(trainingData)\n",
        "print(trainingData.head(0))\n",
        "trainingData.columns = col_names\n",
        "print(trainingData.columns)\n",
        "print(trainingData)\n",
        "#print(trainingData.head(0))\n",
        "#print(trainingData.info())\n",
        "#trainingData[\"credit\"].plot(kind = 'hist')"
      ],
      "execution_count": null,
      "outputs": []
    },
    {
      "cell_type": "code",
      "metadata": {
        "id": "8SR6yn3prTsn"
      },
      "source": [
        "file = open(\"/content/drive/MyDrive/Data Mining/HW2_credit_test.csv\",\"r\")\n",
        "col_names = ['id','yag','workhrs','val','occ','gain','loss','ms','emptyp','edytyp','race','gender']\n",
        "testData = pd.read_csv(file)\n",
        "\n",
        "testData =  pd.DataFrame(testData)\n",
        "testData.columns = col_names\n",
        "print(testData)\n"
      ],
      "execution_count": null,
      "outputs": []
    },
    {
      "cell_type": "code",
      "metadata": {
        "id": "sjILO-MTi-Bw"
      },
      "source": [
        "trainingData.info()"
      ],
      "execution_count": null,
      "outputs": []
    },
    {
      "cell_type": "code",
      "metadata": {
        "id": "7qA910b-bQdh"
      },
      "source": [
        "trainingData.emptyp.value_counts()\n"
      ],
      "execution_count": null,
      "outputs": []
    },
    {
      "cell_type": "code",
      "metadata": {
        "id": "IOWJbucmb2L1"
      },
      "source": [
        "trainingData.edytyp.value_counts()\n"
      ],
      "execution_count": null,
      "outputs": []
    },
    {
      "cell_type": "code",
      "metadata": {
        "id": "zDDeN_6Ib3D9"
      },
      "source": [
        "trainingData.race.value_counts()\n"
      ],
      "execution_count": null,
      "outputs": []
    },
    {
      "cell_type": "code",
      "metadata": {
        "id": "xNtMuV64b7Y0"
      },
      "source": [
        "trainingData.gender.value_counts()\n"
      ],
      "execution_count": null,
      "outputs": []
    },
    {
      "cell_type": "code",
      "metadata": {
        "id": "9q-JmKg2jSWK"
      },
      "source": [
        "trainingData.val.value_counts()\n"
      ],
      "execution_count": null,
      "outputs": []
    },
    {
      "cell_type": "code",
      "metadata": {
        "id": "YfKG6ZR7ijH8"
      },
      "source": [
        "trainingData.boxplot('emptyp','credit',rot = 30,figsize=(5,6))"
      ],
      "execution_count": null,
      "outputs": []
    },
    {
      "cell_type": "code",
      "metadata": {
        "id": "5xDhDMjFdbx7"
      },
      "source": [
        "feature_cols = ['yag','workhrs','val','occ','gain','loss','ms','emptyp','edytyp'] ## here id , gender and race have not been used as features\n",
        "X = trainingData[feature_cols]\n",
        "y = trainingData.credit\n",
        "\n",
        "X_train,X_test,y_train,y_test = train_test_split(X, y, test_size=0.3, random_state=1)\n"
      ],
      "execution_count": 4,
      "outputs": []
    },
    {
      "cell_type": "code",
      "metadata": {
        "colab": {
          "base_uri": "https://localhost:8080/"
        },
        "id": "zhChIBpLWDed",
        "outputId": "feb06366-6434-4bce-85eb-8580ff301c4c"
      },
      "source": [
        "print(feature_cols)"
      ],
      "execution_count": 126,
      "outputs": [
        {
          "output_type": "stream",
          "name": "stdout",
          "text": [
            "['yag', 'workhrs', 'val', 'occ', 'gain', 'loss', 'ms', 'emptyp', 'edytyp']\n"
          ]
        }
      ]
    },
    {
      "cell_type": "code",
      "metadata": {
        "id": "2TmJ4Yx7jnlt"
      },
      "source": [
        "## though the other variables like emptyp,edytyp , ms , occ , val are all supposed to be categorical they are of the datatype int64 \n",
        "#and have already been normalised and hence their normalisation has not been considered here\n",
        "#one-hot encoding for categorical features gender and race is being checked here\n",
        "cat_features = trainingData.select_dtypes(include=['object']).copy() \n",
        "print(cat_features)\n",
        "\n",
        "from sklearn.preprocessing import LabelBinarizer\n",
        "\n",
        "lb_race = LabelBinarizer()\n",
        "lb_results_race = lb_race.fit_transform(cat_features['race'])\n",
        "lb_results_df_race = pd.DataFrame(lb_results_race, columns=lb_race.classes_)\n",
        "\n",
        "print(lb_results_df_race.head())\n"
      ],
      "execution_count": null,
      "outputs": []
    },
    {
      "cell_type": "code",
      "metadata": {
        "id": "-f8GHOVPC34S"
      },
      "source": [
        "def tree_graph_to_png(tree, feature_names, png_file_to_save):\n",
        "    tree_str = export_graphviz(tree, feature_names=feature_names, \n",
        "                                     filled=True, out_file=None)\n",
        "    graph = pydotplus.graph_from_dot_data(tree_str)  \n",
        "    graph.write_png(png_file_to_save)"
      ],
      "execution_count": 37,
      "outputs": []
    },
    {
      "cell_type": "code",
      "metadata": {
        "id": "7yQk7Np14X4C"
      },
      "source": [
        "def decision_tree_class(X_train,y_train,X_test):\n",
        "  decision_clssf = DecisionTreeClassifier(max_depth=3)\n",
        "  decision_clssf = decision_clssf.fit(X_train,y_train)\n",
        "  y_pred = decision_clssf.predict(X_test)\n",
        "  tree_graph_to_png(decision_clssf,feature_cols,\"tree\")\n",
        "  return y_pred"
      ],
      "execution_count": 143,
      "outputs": []
    },
    {
      "cell_type": "code",
      "metadata": {
        "id": "I7GSJHUt_vnK"
      },
      "source": [
        "def decision_tree_class_entropy(X_train,y_train,X_test):\n",
        "  decision_clssf = DecisionTreeClassifier(criterion=\"entropy\", max_depth=3)\n",
        "  decision_clssf = decision_clssf.fit(X_train,y_train)\n",
        "  y_pred_entropy = decision_clssf.predict(X_test)\n",
        "  tree_graph_to_png(decision_clssf,feature_cols,\"tree1\")\n",
        "  return y_pred_entropy"
      ],
      "execution_count": 137,
      "outputs": []
    },
    {
      "cell_type": "code",
      "metadata": {
        "id": "8k8v2oT2Jarl"
      },
      "source": [
        "def decision_tree_boost(X_train,y_train,X_test):\n",
        "  tree_boost = GradientBoostingClassifier(n_estimators=100, learning_rate=1.0,\n",
        "     max_depth=1, random_state=0).fit(X_train, y_train)\n",
        "  y_pred_boost = tree_boost.predict(X_test)\n",
        "  tree_graph_to_png(tree_boost,feature_cols,\"tree2\")\n",
        "  return y_pred_boost"
      ],
      "execution_count": 95,
      "outputs": []
    },
    {
      "cell_type": "code",
      "metadata": {
        "id": "PX5YnQFuNVpB"
      },
      "source": [
        "from imblearn.over_sampling import SMOTE, ADASYN\n",
        "from collections import Counter\n",
        "from sklearn.svm import LinearSVC, SVC\n",
        "\n",
        "X_resampled, y_resampled = SMOTE().fit_resample(X, y)\n",
        "print(sorted(Counter(y_resampled).items()))\n",
        "clf_smote = LinearSVC().fit(X_resampled, y_resampled)\n",
        "X_resampled, y_resampled = ADASYN().fit_resample(X, y)\n",
        "print(sorted(Counter(y_resampled).items()))\n",
        "clf_adasyn = LinearSVC().fit(X_resampled, y_resampled)"
      ],
      "execution_count": null,
      "outputs": []
    },
    {
      "cell_type": "code",
      "metadata": {
        "colab": {
          "base_uri": "https://localhost:8080/"
        },
        "id": "vwOF96q_pKHt",
        "outputId": "b293376f-b976-4863-de73-95964e3ad6c8"
      },
      "source": [
        "from sklearn.metrics import f1_score\n",
        "\n",
        "f1_score(y_test, y_pred, average='macro')\n"
      ],
      "execution_count": 135,
      "outputs": [
        {
          "output_type": "execute_result",
          "data": {
            "text/plain": [
              "0.7701651185311991"
            ]
          },
          "metadata": {},
          "execution_count": 135
        }
      ]
    },
    {
      "cell_type": "code",
      "metadata": {
        "colab": {
          "base_uri": "https://localhost:8080/"
        },
        "id": "pFAg7Hz4Ebb5",
        "outputId": "2257b503-262a-42f6-ac6c-d6471495167d"
      },
      "source": [
        "f1_score(y_test, y_pred_entropy, average='macro')"
      ],
      "execution_count": 136,
      "outputs": [
        {
          "output_type": "execute_result",
          "data": {
            "text/plain": [
              "0.7690819227130525"
            ]
          },
          "metadata": {},
          "execution_count": 136
        }
      ]
    },
    {
      "cell_type": "code",
      "metadata": {
        "colab": {
          "base_uri": "https://localhost:8080/"
        },
        "id": "Sft3wTuiPESE",
        "outputId": "ebee5b20-5484-4736-94af-9b5ce4f3aec0"
      },
      "source": [
        "f1_score(y_test, y_pred_os, average='macro')"
      ],
      "execution_count": 145,
      "outputs": [
        {
          "output_type": "execute_result",
          "data": {
            "text/plain": [
              "0.7078638911735582"
            ]
          },
          "metadata": {},
          "execution_count": 145
        }
      ]
    },
    {
      "cell_type": "code",
      "metadata": {
        "colab": {
          "base_uri": "https://localhost:8080/"
        },
        "id": "Ytfx85r4PE3X",
        "outputId": "f8cfe4e0-970b-45a4-de3a-9056a1da2821"
      },
      "source": [
        "f1_score(y_test, y_pred_entropy_os, average='macro')"
      ],
      "execution_count": 142,
      "outputs": [
        {
          "output_type": "execute_result",
          "data": {
            "text/plain": [
              "0.6577629649180569"
            ]
          },
          "metadata": {},
          "execution_count": 142
        }
      ]
    },
    {
      "cell_type": "code",
      "metadata": {
        "id": "CgT_TXg0fRb0",
        "colab": {
          "base_uri": "https://localhost:8080/"
        },
        "outputId": "57bcf15d-f24b-4295-b4c4-faa5d380ee1d"
      },
      "source": [
        "y_pred = decision_tree_class(X_train,y_train,X_test)\n",
        "y_pred_entropy = decision_tree_class_entropy(X_train,y_train,X_test)\n",
        "\n",
        "print(\"Accuracy:\",metrics.accuracy_score(y_test, y_pred))\n",
        "print(\"Accuracy:\",metrics.accuracy_score(y_test, y_pred_entropy))\n"
      ],
      "execution_count": 138,
      "outputs": [
        {
          "output_type": "stream",
          "name": "stdout",
          "text": [
            "dot: graph is too large for cairo-renderer bitmaps. Scaling by 0.28992 to fit\n",
            "\n",
            "Accuracy: 0.8439963148735797\n",
            "Accuracy: 0.8458388780837343\n"
          ]
        }
      ]
    },
    {
      "cell_type": "code",
      "metadata": {
        "colab": {
          "base_uri": "https://localhost:8080/"
        },
        "id": "OkSHrAYiOT6M",
        "outputId": "cddc7cd9-d67d-4387-952d-a27fc17bcc8d"
      },
      "source": [
        "y_pred_os = decision_tree_class(X_resampled,y_resampled,X_test)\n",
        "y_pred_entropy_os = decision_tree_class_entropy(X_resampled,y_resampled,X_test)\n",
        "\n",
        "print(\"Accuracy:\",metrics.accuracy_score(y_test, y_pred_os))\n",
        "print(\"Accuracy:\",metrics.accuracy_score(y_test, y_pred_entropy_os))"
      ],
      "execution_count": 144,
      "outputs": [
        {
          "output_type": "stream",
          "name": "stdout",
          "text": [
            "Accuracy: 0.7492066741734057\n",
            "Accuracy: 0.683693315590132\n"
          ]
        }
      ]
    },
    {
      "cell_type": "code",
      "metadata": {
        "id": "XdaM_QH5r7Sg"
      },
      "source": [
        "test_X = testData[feature_cols]\n",
        "result = decision_tree_class(X,y,test_X)\n",
        "print(result)"
      ],
      "execution_count": null,
      "outputs": []
    },
    {
      "cell_type": "code",
      "metadata": {
        "colab": {
          "base_uri": "https://localhost:8080/"
        },
        "id": "E0iy76_1AGgN",
        "outputId": "41318a11-d67c-4be7-fb70-f6c736de61a4"
      },
      "source": [
        "test_X = testData[feature_cols]\n",
        "result_entropy = decision_tree_class(X,y,test_X)\n",
        "print(result_entropy)"
      ],
      "execution_count": 120,
      "outputs": [
        {
          "output_type": "stream",
          "name": "stdout",
          "text": [
            "[0 1 1 ... 0 1 0]\n"
          ]
        }
      ]
    },
    {
      "cell_type": "code",
      "metadata": {
        "colab": {
          "base_uri": "https://localhost:8080/"
        },
        "id": "YhAZQtscPZDi",
        "outputId": "a28875f1-37e6-4e74-92c4-d37d1adb71d3"
      },
      "source": [
        "test_X = testData[feature_cols]\n",
        "result_os = decision_tree_class(X_resampled,y_resampled,test_X)\n",
        "print(result_os)"
      ],
      "execution_count": 146,
      "outputs": [
        {
          "output_type": "stream",
          "name": "stdout",
          "text": [
            "[0 1 1 ... 0 1 0]\n"
          ]
        }
      ]
    },
    {
      "cell_type": "code",
      "metadata": {
        "colab": {
          "base_uri": "https://localhost:8080/"
        },
        "id": "lGXbDckGPtjx",
        "outputId": "c5eeee78-6550-401d-a7f0-32f39c74905f"
      },
      "source": [
        "test_X = testData[feature_cols]\n",
        "result_entropy_os = decision_tree_class_entropy(X_resampled,y_resampled,test_X)\n",
        "print(result_entropy_os)"
      ],
      "execution_count": 122,
      "outputs": [
        {
          "output_type": "stream",
          "name": "stdout",
          "text": [
            "[0 1 1 ... 0 1 0]\n"
          ]
        }
      ]
    },
    {
      "cell_type": "code",
      "metadata": {
        "id": "TMHoPR02q7M5"
      },
      "source": [
        "## result file created here . Run this for test data run\n",
        "f = open(\"result_decision_tree.txt\", \"w\")\n",
        "for i in list(result):\n",
        "    if i==1:\n",
        "        f.write(\"1\\n\")\n",
        "    else:\n",
        "        f.write(\"0\\n\")\n",
        "f.close()"
      ],
      "execution_count": 22,
      "outputs": []
    },
    {
      "cell_type": "code",
      "metadata": {
        "id": "FNAOMkvAAKzy"
      },
      "source": [
        "## result file created here . Run this for test data run\n",
        "f = open(\"result_decision_tree_entropy.txt\", \"w\")\n",
        "for i in list(result_entropy):\n",
        "    if i==1:\n",
        "        f.write(\"1\\n\")\n",
        "    else:\n",
        "        f.write(\"0\\n\")\n",
        "f.close()"
      ],
      "execution_count": 114,
      "outputs": []
    },
    {
      "cell_type": "code",
      "metadata": {
        "id": "VSC_fXcoPgTQ"
      },
      "source": [
        "## result file created here . Run this for test data run\n",
        "f = open(\"result_decision_tree__os.txt\", \"w\")\n",
        "for i in list(result_os):\n",
        "    if i==1:\n",
        "        f.write(\"1\\n\")\n",
        "    else:\n",
        "        f.write(\"0\\n\")\n",
        "f.close()"
      ],
      "execution_count": 147,
      "outputs": []
    },
    {
      "cell_type": "code",
      "metadata": {
        "id": "2BEwV7AbP-cp"
      },
      "source": [
        "## result file created here . Run this for test data run\n",
        "f = open(\"result_decision_tree__entropy_os.txt\", \"w\")\n",
        "for i in list(result_entropy_os):\n",
        "    if i==1:\n",
        "        f.write(\"1\\n\")\n",
        "    else:\n",
        "        f.write(\"0\\n\")\n",
        "f.close()"
      ],
      "execution_count": 148,
      "outputs": []
    }
  ]
}