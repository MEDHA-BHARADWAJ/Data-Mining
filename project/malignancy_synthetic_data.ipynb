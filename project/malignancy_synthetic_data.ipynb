{
  "nbformat": 4,
  "nbformat_minor": 0,
  "metadata": {
    "colab": {
      "provenance": [],
      "collapsed_sections": []
    },
    "kernelspec": {
      "name": "python3",
      "display_name": "Python 3"
    },
    "language_info": {
      "name": "python"
    }
  },
  "cells": [
    {
      "cell_type": "code",
      "metadata": {
        "id": "JibH6-hGYdIu"
      },
      "source": [
        "import numpy as np\n",
        "\n",
        "# Needed for plotting\n",
        "import matplotlib.colors\n",
        "import matplotlib.pyplot as plt\n",
        "from mpl_toolkits.mplot3d import Axes3D\n",
        "\n",
        "# Needed for generating classification, regression and clustering datasets\n",
        "import sklearn.datasets as dt\n",
        "\n",
        "# Needed for generating data from an existing dataset\n",
        "from sklearn.neighbors import KernelDensity\n",
        "from sklearn.model_selection import GridSearchCV\n",
        "\n",
        "import pandas as pd\n",
        "import csv\n",
        "import sklearn\n",
        "from sklearn.model_selection import train_test_split\n",
        "from sklearn.neighbors import KNeighborsClassifier\n",
        "from sklearn.model_selection import cross_val_score\n",
        "from sklearn import metrics\n",
        "from sklearn.tree import DecisionTreeClassifier\n",
        "from sklearn.metrics import accuracy_score\n",
        "from sklearn.metrics import precision_score\n",
        "from sklearn.metrics import recall_score\n",
        "from sklearn.metrics import f1_score\n",
        "from sklearn.ensemble import RandomForestClassifier\n",
        "from sklearn.naive_bayes import MultinomialNB\n",
        "from sklearn import svm\n",
        "from sklearn.metrics import roc_auc_score\n"
      ],
      "execution_count": null,
      "outputs": []
    },
    {
      "cell_type": "code",
      "metadata": {
        "id": "Zh1LBFgpa4hc"
      },
      "source": [
        "# Fetch the dataset and store in file\n",
        "file = open(\"/content/drive/MyDrive/Data Mining/project.data\",\"r\")"
      ],
      "execution_count": null,
      "outputs": []
    },
    {
      "cell_type": "code",
      "source": [
        "from google.colab import drive\n",
        "drive.mount('/content/drive')"
      ],
      "metadata": {
        "id": "HsF8C4InCIIP"
      },
      "execution_count": null,
      "outputs": []
    },
    {
      "cell_type": "code",
      "metadata": {
        "id": "T6l07WMsaUSA"
      },
      "source": [
        "#read data\n",
        "data = pd.read_csv(file, sep=',', names=['id number','Clump Thickness','Uniformity of Cell Size','Uniformity of Cell Shape','Marginal Adhesion','Single Epithelial Cell Size','Bare Nuclei','Bland Chromatin','Normal Nucleoli','Mitoses','Class'])\n",
        "data.dtypes"
      ],
      "execution_count": null,
      "outputs": []
    },
    {
      "cell_type": "code",
      "metadata": {
        "id": "F3J6VfhrulHI"
      },
      "source": [
        "#Storing the indices of the cells where Bare Nuclei value is missing\n",
        "store_index = data[data['Bare Nuclei']=='?'].index.values\n",
        "print(store_index.tolist())\n",
        "\n",
        "#Dropping the rows of the bare nuclei column that has missing values\n",
        "data.drop(data.index[store_index], inplace=True)\n",
        "#data.to_csv('bc.csv')\n",
        "print(data)"
      ],
      "execution_count": null,
      "outputs": []
    },
    {
      "cell_type": "code",
      "metadata": {
        "id": "wrAv4Ie5b5Eq"
      },
      "source": [
        "# Dropping id and setting class variables as 0 and 1 for convenience\n",
        "data.drop('id number', axis=1, inplace=True)\n",
        "data[\"Class\"].replace({2:0, 4:1}, inplace=True)\n",
        "X = data"
      ],
      "execution_count": null,
      "outputs": []
    },
    {
      "cell_type": "code",
      "metadata": {
        "id": "6MJwBGz2YYLa"
      },
      "source": [
        "# Fit a kernel density model using GridSearchCV to determine the best parameter for bandwidth\n",
        "bandwidth_params = {'bandwidth': np.arange(0.01,1,0.05)}\n",
        "grid_search = GridSearchCV(KernelDensity(), bandwidth_params)\n",
        "grid_search.fit(X)\n",
        "kde = grid_search.best_estimator_\n",
        "\n",
        "# Generate/sample n new rows\n",
        "new_data = kde.sample(1000, random_state=None)\n",
        "newData = pd.DataFrame(new_data, columns=['Clump Thickness','Uniformity of Cell Size','Uniformity of Cell Shape','Marginal Adhesion','Single Epithelial Cell Size','Bare Nuclei','Bland Chromatin','Normal Nucleoli','Mitoses','Class'])\n",
        "newData.shape"
      ],
      "execution_count": null,
      "outputs": []
    },
    {
      "cell_type": "code",
      "metadata": {
        "id": "71GyBAdAJxdx"
      },
      "source": [
        "#Due to the Kde used the class variable is also estimated based on density . Converting it to int.\n",
        "newData['Class'] = newData['Class'].astype(int)\n",
        "\n",
        "#Estimating class variables as 0 and 1 based on even/odd values to suite the binary classifier data\n",
        "newData['Class'].loc[(newData['Class'] % 2) == 0] = 0\n",
        "newData['Class'].loc[(newData['Class'] % 2) == 1] = 1"
      ],
      "execution_count": null,
      "outputs": []
    },
    {
      "cell_type": "code",
      "metadata": {
        "id": "vuXwATIuu4Md"
      },
      "source": [
        "#Since the distibution is random eliminating negative data poitns by taking absolute value\n",
        "data = abs(newData)\n",
        "#data.to_csv('bc.csv')\n",
        "data.shape"
      ],
      "execution_count": null,
      "outputs": []
    },
    {
      "cell_type": "code",
      "metadata": {
        "id": "LuopfrGQUJ2Z"
      },
      "source": [
        "#Separating the independent and the dependent features\n",
        "\n",
        "malignancy=data.Class\n",
        "features=data.drop('Class',axis=1)\n",
        "features_train,features_test,malignancy_train,malignancy_test=train_test_split(features,malignancy,test_size=0.2)"
      ],
      "execution_count": null,
      "outputs": []
    },
    {
      "cell_type": "code",
      "metadata": {
        "id": "rt-RxsFUHzAf"
      },
      "source": [
        "#### KNN Classifier ####\n",
        "\n",
        "knn = KNeighborsClassifier(n_neighbors = 5)\n",
        "knn.fit(features_train,malignancy_train)\n",
        "predicted_score=[]\n",
        "predicted_score=knn.predict(features_test)\n",
        "print(\"Accuracy:\",metrics.accuracy_score(malignancy_test, predicted_score))\n",
        "\n",
        "print(\"Running Cross validation for KNN\")\n",
        "knn_cv = KNeighborsClassifier(n_neighbors=5)\n",
        "cv_scores = cross_val_score(knn_cv, features_train, malignancy_train, scoring=\"f1\",cv=10)\n",
        "print(cv_scores)\n",
        "print(\"cv_scores mean:{}\".format(np.mean(cv_scores)))\n",
        "print('Confusion Matrix for KNN: ',metrics.confusion_matrix(malignancy_test,predicted_score), sep = '\\n')\n",
        "\n",
        "accuracy_knn = accuracy_score(malignancy_test, predicted_score)\n",
        "print('Accuracy for KNN: %f' % accuracy_knn)\n",
        "precision_knn = precision_score(malignancy_test, predicted_score)\n",
        "print('Precision for KNN: %f' % precision_knn)\n",
        "recall_knn = recall_score(malignancy_test, predicted_score)\n",
        "print('Recall for KNN: %f' % recall_knn)\n",
        "f1_knn = f1_score(malignancy_test, predicted_score)\n",
        "print('F1 Score for KNN: %f' % f1_knn)\n",
        "\n",
        "predicted_knn=[None]*len(predicted_score)\n",
        "for i in range(0, len(predicted_score)):    \n",
        "    predicted_knn[i] = predicted_score[i]\n",
        "\n",
        "#print(\"Elements of new array: \")    \n",
        "#for i in range(0, len(predicted_knn)):    \n",
        "#  print(predicted_knn[i])"
      ],
      "execution_count": null,
      "outputs": []
    },
    {
      "cell_type": "code",
      "metadata": {
        "id": "vf6c4GhKqwny"
      },
      "source": [
        "metrics.plot_roc_curve(knn, features_test, predicted_score)"
      ],
      "execution_count": null,
      "outputs": []
    },
    {
      "cell_type": "code",
      "metadata": {
        "id": "jgWtorP7UgNz"
      },
      "source": [
        "#### Decision Tree Classifier ####\n",
        "\n",
        "clf = DecisionTreeClassifier()\n",
        "clf = clf.fit(features_train,malignancy_train)\n",
        "predicted_score=[]\n",
        "predicted_score = clf.predict(features_test)\n",
        "print(\"Accuracy:\",metrics.accuracy_score(malignancy_test, predicted_score))\n",
        "\n",
        "print(\"Running Cross validation for Decision Tree\")\n",
        "dt_cv = DecisionTreeClassifier()\n",
        "cv_scores = cross_val_score(dt_cv, features_train, malignancy_train, scoring=\"f1\",cv=10)\n",
        "print(cv_scores)\n",
        "print(\"cv_scores mean:{}\".format(np.mean(cv_scores)))\n",
        "print('Confusion Matrix for Decision Tree: ',metrics.confusion_matrix(malignancy_test,predicted_score), sep = '\\n')\n",
        "\n",
        "accuracy_dt = accuracy_score(malignancy_test, predicted_score)\n",
        "print('Accuracy for Decision Tree: %f' % accuracy_dt)\n",
        "precision_dt = precision_score(malignancy_test, predicted_score)\n",
        "print('Precision for Decision Tree: %f' % precision_dt)\n",
        "recall_dt = recall_score(malignancy_test, predicted_score)\n",
        "print('Recall for Decision Tree: %f' % recall_dt)\n",
        "f1_dt = f1_score(malignancy_test, predicted_score)\n",
        "print('F1 Score for Decision Tree: %f' % f1_dt)\n",
        "\n",
        "predicted_dt=[None]*len(predicted_score)\n",
        "for i in range(0, len(predicted_score)):    \n",
        "    predicted_dt[i] = predicted_score[i]\n",
        "\n",
        "#print(\"Elements of new array: \")    \n",
        "#for i in range(0, len(predicted_dt)):    \n",
        "#  print(predicted_dt[i])"
      ],
      "execution_count": null,
      "outputs": []
    },
    {
      "cell_type": "code",
      "metadata": {
        "colab": {
          "base_uri": "https://localhost:8080/",
          "height": 354
        },
        "id": "wHr8iLu-tWVH",
        "outputId": "e4dde6a6-2600-47df-a112-4104e69b6d0e"
      },
      "source": [
        "metrics.plot_roc_curve(clf, features_test, predicted_score)"
      ],
      "execution_count": null,
      "outputs": [
        {
          "output_type": "stream",
          "name": "stderr",
          "text": [
            "/usr/local/lib/python3.7/dist-packages/sklearn/utils/deprecation.py:87: FutureWarning: Function plot_roc_curve is deprecated; Function `plot_roc_curve` is deprecated in 1.0 and will be removed in 1.2. Use one of the class methods: RocCurveDisplay.from_predictions or RocCurveDisplay.from_estimator.\n",
            "  warnings.warn(msg, category=FutureWarning)\n"
          ]
        },
        {
          "output_type": "execute_result",
          "data": {
            "text/plain": [
              "<sklearn.metrics._plot.roc_curve.RocCurveDisplay at 0x7f16b9319610>"
            ]
          },
          "metadata": {},
          "execution_count": 170
        },
        {
          "output_type": "display_data",
          "data": {
            "image/png": "[encoded data removed]",
            "text/plain": [
              "<Figure size 432x288 with 1 Axes>"
            ]
          },
          "metadata": {
            "needs_background": "light"
          }
        }
      ]
    },
    {
      "cell_type": "code",
      "metadata": {
        "id": "k4IA1pmfUmgl",
        "colab": {
          "base_uri": "https://localhost:8080/"
        },
        "outputId": "fa6e5c63-3917-4fc7-a49c-0a63858f2810"
      },
      "source": [
        "#### Random Forest Classifier ####\n",
        "\n",
        "rf=RandomForestClassifier(n_estimators=100)\n",
        "rf = rf.fit(features_train,malignancy_train)\n",
        "predicted_score=[]\n",
        "predicted_score = rf.predict(features_test)\n",
        "print(\"Accuracy:\",metrics.accuracy_score(malignancy_test, predicted_score))\n",
        "\n",
        "print(\"Running Cross validation for Random Forest\")\n",
        "rf_cv = RandomForestClassifier(n_estimators=100)\n",
        "cv_scores = cross_val_score(rf_cv, features_train, malignancy_train, scoring=\"f1\",cv=10)\n",
        "print(cv_scores)\n",
        "print(\"cv_scores mean:{}\".format(np.mean(cv_scores)))\n",
        "print('Confusion Matrix for Random Forest: ',metrics.confusion_matrix(malignancy_test,predicted_score), sep = '\\n')\n",
        "\n",
        "accuracy_rf = accuracy_score(malignancy_test, predicted_score)\n",
        "print('Accuracy for Random Forest: %f' % accuracy_rf)\n",
        "precision_rf = precision_score(malignancy_test, predicted_score)\n",
        "print('Precision for Random Forest: %f' % precision_rf)\n",
        "recall_rf = recall_score(malignancy_test, predicted_score)\n",
        "print('Recall for Random Forest: %f' % recall_rf)\n",
        "f1_rf = f1_score(malignancy_test, predicted_score)\n",
        "print('F1 Score for Random Forest: %f' % f1_rf)\n",
        "\n",
        "predicted_rf=[None]*len(predicted_score)\n",
        "for i in range(0, len(predicted_score)):    \n",
        "    predicted_rf[i] = predicted_score[i]\n",
        "\n",
        "#print(\"Elements of new array: \")    \n",
        "#for i in range(0, len(predicted_rf)):    \n",
        "#  print(predicted_rf[i])\n"
      ],
      "execution_count": null,
      "outputs": [
        {
          "output_type": "stream",
          "name": "stdout",
          "text": [
            "Accuracy: 0.65\n",
            "Running Cross validation for Random Forest\n",
            "[0.07407407 0.20689655 0.33333333 0.07142857 0.         0.\n",
            " 0.         0.07142857 0.         0.07407407]\n",
            "cv_scores mean:0.08312351760627622\n",
            "Confusion Matrix for Random Forest: \n",
            "[[126  12]\n",
            " [ 58   4]]\n",
            "Accuracy for Random Forest: 0.650000\n",
            "Precision for Random Forest: 0.250000\n",
            "Recall for Random Forest: 0.064516\n",
            "F1 Score for Random Forest: 0.102564\n"
          ]
        }
      ]
    },
    {
      "cell_type": "code",
      "metadata": {
        "colab": {
          "base_uri": "https://localhost:8080/",
          "height": 354
        },
        "id": "fqD19nfqtbjN",
        "outputId": "b2572a44-e4a7-4289-b094-0c93637b37ec"
      },
      "source": [
        "metrics.plot_roc_curve(rf, features_test, predicted_score)"
      ],
      "execution_count": null,
      "outputs": [
        {
          "output_type": "stream",
          "name": "stderr",
          "text": [
            "/usr/local/lib/python3.7/dist-packages/sklearn/utils/deprecation.py:87: FutureWarning: Function plot_roc_curve is deprecated; Function `plot_roc_curve` is deprecated in 1.0 and will be removed in 1.2. Use one of the class methods: RocCurveDisplay.from_predictions or RocCurveDisplay.from_estimator.\n",
            "  warnings.warn(msg, category=FutureWarning)\n"
          ]
        },
        {
          "output_type": "execute_result",
          "data": {
            "text/plain": [
              "<sklearn.metrics._plot.roc_curve.RocCurveDisplay at 0x7f16b922af90>"
            ]
          },
          "metadata": {},
          "execution_count": 171
        },
        {
          "output_type": "display_data",
          "data": {
            "image/png": "[encoded data removed]",
            "text/plain": [
              "<Figure size 432x288 with 1 Axes>"
            ]
          },
          "metadata": {
            "needs_background": "light"
          }
        }
      ]
    },
    {
      "cell_type": "code",
      "metadata": {
        "id": "ShBKBcfEUqyr",
        "colab": {
          "base_uri": "https://localhost:8080/"
        },
        "outputId": "9aaea795-f1a2-4592-c495-7807c4dd9c3a"
      },
      "source": [
        "\n",
        "### Naive Bayes Classifier ###\n",
        "\n",
        "nb = MultinomialNB()\n",
        "nb = nb.fit(features_train, malignancy_train)\n",
        "predicted_score=[]\n",
        "predicted_score = nb.predict(features_test)\n",
        "print(\"Accuracy:\",metrics.accuracy_score(malignancy_test, predicted_score))\n",
        "print(\"Running Cross validation for Naive Bayes Classifier\")\n",
        "nb_cv = MultinomialNB()\n",
        "cv_scores = cross_val_score(nb_cv, features_train, malignancy_train, scoring=\"f1\",cv=10)\n",
        "print(cv_scores)\n",
        "print(\"cv_scores mean:{}\".format(np.mean(cv_scores)))\n",
        "print('Confusion Matrix for Naive Bayes: ',metrics.confusion_matrix(malignancy_test,predicted_score), sep = '\\n')\n",
        "\n",
        "accuracy_nb = accuracy_score(malignancy_test, predicted_score)\n",
        "print('Accuracy for Naive Bayes: %f' % accuracy_nb)\n",
        "precision_nb = precision_score(malignancy_test, predicted_score)\n",
        "print('Precision for Naive Bayes: %f' % precision_nb)\n",
        "recall_nb = recall_score(malignancy_test, predicted_score)\n",
        "print('Recall for Naive Bayes: %f' % recall_nb)\n",
        "f1_nb = f1_score(malignancy_test, predicted_score)\n",
        "print('F1 Score for Naive Bayes: %f' % f1_nb)\n",
        "\n",
        "predicted_nb=[None]*len(predicted_score)\n",
        "for i in range(0, len(predicted_score)):    \n",
        "    predicted_nb[i] = predicted_score[i]\n",
        "\n",
        "#print(\"Elements of new array: \")    \n",
        "#for i in range(0, len(predicted_nb)):    \n",
        "#  print(predicted_nb[i])\n"
      ],
      "execution_count": null,
      "outputs": [
        {
          "output_type": "stream",
          "name": "stdout",
          "text": [
            "Accuracy: 0.66\n",
            "Running Cross validation for Naive Bayes Classifier\n",
            "[0.07142857 0.08       0.14285714 0.07692308 0.         0.22222222\n",
            " 0.         0.         0.         0.        ]\n",
            "cv_scores mean:0.059343101343101334\n",
            "Confusion Matrix for Naive Bayes: \n",
            "[[131   7]\n",
            " [ 61   1]]\n",
            "Accuracy for Naive Bayes: 0.660000\n",
            "Precision for Naive Bayes: 0.125000\n",
            "Recall for Naive Bayes: 0.016129\n",
            "F1 Score for Naive Bayes: 0.028571\n"
          ]
        }
      ]
    },
    {
      "cell_type": "code",
      "metadata": {
        "colab": {
          "base_uri": "https://localhost:8080/",
          "height": 354
        },
        "id": "HMOuFmzFtgNo",
        "outputId": "65609668-ecdf-4f4a-c5eb-8fd92be1c6b7"
      },
      "source": [
        "metrics.plot_roc_curve(nb, features_test, predicted_score)"
      ],
      "execution_count": null,
      "outputs": [
        {
          "output_type": "stream",
          "name": "stderr",
          "text": [
            "/usr/local/lib/python3.7/dist-packages/sklearn/utils/deprecation.py:87: FutureWarning: Function plot_roc_curve is deprecated; Function `plot_roc_curve` is deprecated in 1.0 and will be removed in 1.2. Use one of the class methods: RocCurveDisplay.from_predictions or RocCurveDisplay.from_estimator.\n",
            "  warnings.warn(msg, category=FutureWarning)\n"
          ]
        },
        {
          "output_type": "execute_result",
          "data": {
            "text/plain": [
              "<sklearn.metrics._plot.roc_curve.RocCurveDisplay at 0x7f16b920ad90>"
            ]
          },
          "metadata": {},
          "execution_count": 172
        },
        {
          "output_type": "display_data",
          "data": {
            "image/png": "[encoded data removed]",
            "text/plain": [
              "<Figure size 432x288 with 1 Axes>"
            ]
          },
          "metadata": {
            "needs_background": "light"
          }
        }
      ]
    },
    {
      "cell_type": "code",
      "metadata": {
        "id": "RxODHj-MYmfC",
        "colab": {
          "base_uri": "https://localhost:8080/"
        },
        "outputId": "8c815b90-d735-42f4-ff7a-6f817ebcb0f1"
      },
      "source": [
        "\n",
        "### SVM Classifier ###\n",
        "\n",
        "sm = svm.SVC(kernel='linear')\n",
        "sm.fit(features_train, malignancy_train)\n",
        "predicted_score=[]\n",
        "predicted_score = sm.predict(features_test)\n",
        "print(\"Accuracy:\",metrics.accuracy_score(malignancy_test, predicted_score))\n",
        "print(\"Running Cross validation for Support Vector Machine Classifier\")\n",
        "sm_cv = MultinomialNB()\n",
        "cv_scores = cross_val_score(sm_cv, features_train, malignancy_train, scoring=\"f1\",cv=10)\n",
        "print(cv_scores)\n",
        "print(\"cv_scores mean:{}\".format(np.mean(cv_scores)))\n",
        "print('Confusion Matrix for Support Vector Machine: ',metrics.confusion_matrix(malignancy_test,predicted_score), sep = '\\n')\n",
        "\n",
        "accuracy_sm = accuracy_score(malignancy_test, predicted_score)\n",
        "print('Accuracy for Support Vector Machine: %f' % accuracy_sm)\n",
        "precision_sm = precision_score(malignancy_test, predicted_score)\n",
        "print('Precision for Support Vector Machine: %f' % precision_sm)\n",
        "recall_sm = recall_score(malignancy_test, predicted_score)\n",
        "print('Recall for Support Vector Machine: %f' % recall_sm)\n",
        "f1_sm = f1_score(malignancy_test, predicted_score)\n",
        "print('F1 Score for Support Vector Machine: %f' % f1_sm)\n",
        "\n"
      ],
      "execution_count": null,
      "outputs": [
        {
          "output_type": "stream",
          "name": "stdout",
          "text": [
            "Accuracy: 0.69\n",
            "Running Cross validation for Support Vector Machine Classifier\n",
            "[0.07142857 0.08       0.14285714 0.07692308 0.         0.22222222\n",
            " 0.         0.         0.         0.        ]\n",
            "cv_scores mean:0.059343101343101334\n",
            "Confusion Matrix for Support Vector Machine: \n",
            "[[138   0]\n",
            " [ 62   0]]\n",
            "Accuracy for Support Vector Machine: 0.690000\n",
            "Precision for Support Vector Machine: 0.000000\n",
            "Recall for Support Vector Machine: 0.000000\n",
            "F1 Score for Support Vector Machine: 0.000000\n"
          ]
        },
        {
          "output_type": "stream",
          "name": "stderr",
          "text": [
            "/usr/local/lib/python3.7/dist-packages/sklearn/metrics/_classification.py:1308: UndefinedMetricWarning: Precision is ill-defined and being set to 0.0 due to no predicted samples. Use `zero_division` parameter to control this behavior.\n",
            "  _warn_prf(average, modifier, msg_start, len(result))\n"
          ]
        }
      ]
    },
    {
      "cell_type": "code",
      "metadata": {
        "colab": {
          "base_uri": "https://localhost:8080/",
          "height": 354
        },
        "id": "jD4Dw0o8tkPw",
        "outputId": "9aecf727-83c8-43cf-fad9-4f6ba79dc413"
      },
      "source": [
        "metrics.plot_roc_curve(sm, features_test, predicted_score)"
      ],
      "execution_count": null,
      "outputs": [
        {
          "output_type": "stream",
          "name": "stderr",
          "text": [
            "/usr/local/lib/python3.7/dist-packages/sklearn/utils/deprecation.py:87: FutureWarning: Function plot_roc_curve is deprecated; Function `plot_roc_curve` is deprecated in 1.0 and will be removed in 1.2. Use one of the class methods: RocCurveDisplay.from_predictions or RocCurveDisplay.from_estimator.\n",
            "  warnings.warn(msg, category=FutureWarning)\n"
          ]
        },
        {
          "output_type": "execute_result",
          "data": {
            "text/plain": [
              "<sklearn.metrics._plot.roc_curve.RocCurveDisplay at 0x7f16b91d8110>"
            ]
          },
          "metadata": {},
          "execution_count": 173
        },
        {
          "output_type": "display_data",
          "data": {
            "image/png": "[encoded data removed]",
            "text/plain": [
              "<Figure size 432x288 with 1 Axes>"
            ]
          },
          "metadata": {
            "needs_background": "light"
          }
        }
      ]
    },
    {
      "cell_type": "code",
      "metadata": {
        "id": "Nkt_krHsU76W",
        "colab": {
          "base_uri": "https://localhost:8080/"
        },
        "outputId": "d5d74629-14b1-45a0-d504-ccdd72e0d862"
      },
      "source": [
        "predicted_sm=[None]*len(predicted_score)\n",
        "for i in range(0, len(predicted_score)):    \n",
        "    predicted_sm[i] = predicted_score[i]\n",
        "\n",
        "#print(\"Elements of new array: \")    \n",
        "#for i in range(0, len(predicted_sm)):    \n",
        "#  print(predicted_sm[i])\n",
        "\n",
        "#Adding all the prediction arrays and multiplying them with the weight of the models \n",
        "#wt_knn is the weighted prediction of knn\n",
        "\n",
        "wt_knn = [x*5 for x in predicted_knn]\n",
        "wt_rf  = [x*4 for x in predicted_rf]\n",
        "wt_dt  = [x*3 for x in predicted_dt]\n",
        "wt_nb  = [x*2 for x in predicted_nb]\n",
        "wt_sm  = [x*1 for x in predicted_sm]\n",
        "\n",
        "#Adding the elements of all the arrays and storing in grand_sum\n",
        "grand_sum = []\n",
        "for (x1,x2,x3,x4,x5) in zip(wt_knn, wt_rf, wt_dt, wt_nb, wt_sm):\n",
        "    grand_sum.append(x1+x2+x3+x4+x5)\n",
        "\n",
        "print(grand_sum)\n",
        "\n",
        "#Finding the predictions of the meta model\n",
        "pred_meta=[]\n",
        "for x in grand_sum:\n",
        "  if (x>=6):#Setting a threshold here (6=1+5 or 2+4 or 1+2+3. It means any of these combinations of the models can be chosen)\n",
        "    pred_meta.append(1)\n",
        "  else:\n",
        "    pred_meta.append(0)\n",
        "\n",
        "print(pred_meta) \n",
        "\n",
        "print('Confusion Matrix for Meta Learning Model: ',metrics.confusion_matrix(malignancy_test,pred_meta), sep = '\\n')\n",
        "accuracy_ml = accuracy_score(malignancy_test, pred_meta)\n",
        "print('Accuracy for Meta Learning Model: %f' % accuracy_ml)\n",
        "precision_ml = precision_score(malignancy_test, pred_meta)\n",
        "print('Precision for Meta Learning Model: %f' % precision_ml)\n",
        "recall_ml = recall_score(malignancy_test, pred_meta)\n",
        "print('Recall for Meta Learning Model: %f' % recall_ml)\n",
        "f1_ml = f1_score(malignancy_test, pred_meta)\n",
        "print('F1 Score for Meta Learning Model: %f' % f1_ml)"
      ],
      "execution_count": null,
      "outputs": [
        {
          "output_type": "stream",
          "name": "stdout",
          "text": [
            "[0.0, 0.0, 0.0, 3.0, 3.0, 0.0, 0.0, 9.0, 0.0, 3.0, 3.0, 3.0, 0.0, 2.0, 12.0, 3.0, 0.0, 5.0, 0.0, 3.0, 0.0, 2.0, 0.0, 3.0, 12.0, 5.0, 7.0, 3.0, 0.0, 0.0, 3.0, 9.0, 5.0, 0.0, 0.0, 5.0, 0.0, 0.0, 8.0, 0.0, 0.0, 12.0, 0.0, 0.0, 0.0, 12.0, 0.0, 2.0, 0.0, 0.0, 4.0, 3.0, 0.0, 3.0, 4.0, 3.0, 0.0, 0.0, 0.0, 7.0, 0.0, 0.0, 0.0, 2.0, 3.0, 5.0, 3.0, 12.0, 0.0, 0.0, 0.0, 0.0, 3.0, 0.0, 0.0, 0.0, 0.0, 3.0, 3.0, 5.0, 0.0, 5.0, 0.0, 0.0, 0.0, 3.0, 0.0, 12.0, 0.0, 0.0, 5.0, 5.0, 8.0, 0.0, 3.0, 3.0, 3.0, 8.0, 0.0, 3.0, 3.0, 0.0, 0.0, 0.0, 5.0, 5.0, 0.0, 0.0, 3.0, 5.0, 0.0, 3.0, 8.0, 3.0, 0.0, 0.0, 9.0, 0.0, 0.0, 0.0, 0.0, 8.0, 0.0, 5.0, 0.0, 0.0, 0.0, 5.0, 0.0, 0.0, 0.0, 3.0, 0.0, 0.0, 0.0, 5.0, 0.0, 3.0, 0.0, 5.0, 0.0, 0.0, 3.0, 0.0, 0.0, 0.0, 0.0, 5.0, 0.0, 3.0, 8.0, 2.0, 0.0, 0.0, 8.0, 0.0, 0.0, 0.0, 0.0, 0.0, 0.0, 3.0, 0.0, 0.0, 0.0, 5.0, 0.0, 3.0, 0.0, 0.0, 3.0, 0.0, 3.0, 0.0, 0.0, 0.0, 0.0, 0.0, 0.0, 0.0, 8.0, 12.0, 0.0, 5.0, 5.0, 5.0, 3.0, 0.0, 5.0, 0.0, 0.0, 0.0, 7.0, 8.0, 0.0, 3.0, 8.0, 4.0, 0.0, 3.0]\n",
            "[0, 0, 0, 0, 0, 0, 0, 1, 0, 0, 0, 0, 0, 0, 1, 0, 0, 0, 0, 0, 0, 0, 0, 0, 1, 0, 1, 0, 0, 0, 0, 1, 0, 0, 0, 0, 0, 0, 1, 0, 0, 1, 0, 0, 0, 1, 0, 0, 0, 0, 0, 0, 0, 0, 0, 0, 0, 0, 0, 1, 0, 0, 0, 0, 0, 0, 0, 1, 0, 0, 0, 0, 0, 0, 0, 0, 0, 0, 0, 0, 0, 0, 0, 0, 0, 0, 0, 1, 0, 0, 0, 0, 1, 0, 0, 0, 0, 1, 0, 0, 0, 0, 0, 0, 0, 0, 0, 0, 0, 0, 0, 0, 1, 0, 0, 0, 1, 0, 0, 0, 0, 1, 0, 0, 0, 0, 0, 0, 0, 0, 0, 0, 0, 0, 0, 0, 0, 0, 0, 0, 0, 0, 0, 0, 0, 0, 0, 0, 0, 0, 1, 0, 0, 0, 1, 0, 0, 0, 0, 0, 0, 0, 0, 0, 0, 0, 0, 0, 0, 0, 0, 0, 0, 0, 0, 0, 0, 0, 0, 0, 1, 1, 0, 0, 0, 0, 0, 0, 0, 0, 0, 0, 1, 1, 0, 0, 1, 0, 0, 0]\n",
            "Confusion Matrix for Meta Learning Model: \n",
            "[[122  16]\n",
            " [ 55   7]]\n",
            "Accuracy for Meta Learning Model: 0.645000\n",
            "Precision for Meta Learning Model: 0.304348\n",
            "Recall for Meta Learning Model: 0.112903\n",
            "F1 Score for Meta Learning Model: 0.164706\n"
          ]
        }
      ]
    }
  ]
}