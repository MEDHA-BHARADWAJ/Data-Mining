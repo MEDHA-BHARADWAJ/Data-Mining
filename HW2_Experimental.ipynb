{
  "nbformat": 4,
  "nbformat_minor": 0,
  "metadata": {
    "colab": {
      "name": "HW2_Experimental.ipynb",
      "provenance": []
    },
    "kernelspec": {
      "name": "python3",
      "display_name": "Python 3"
    },
    "language_info": {
      "name": "python"
    }
  },
  "cells": [
    {
      "cell_type": "code",
      "metadata": {
        "id": "LDlz3drNracg"
      },
      "source": [
        "import pandas as pd\n",
        "import tensorflow as tf\n",
        "import matplotlib.pyplot as plt\n",
        "import os\n",
        "import re\n",
        "import shutil\n",
        "import string\n",
        "import tensorflow as tf\n",
        "\n",
        "from tensorflow.keras import layers\n",
        "from tensorflow.keras import losses\n",
        "from tensorflow.keras import preprocessing"
      ],
      "execution_count": 1,
      "outputs": []
    },
    {
      "cell_type": "code",
      "metadata": {
        "id": "mq4z4fFvsIcY"
      },
      "source": [
        "data=pd.read_csv('/content/drive/MyDrive/Data Mining/HW2_credit_train.csv')"
      ],
      "execution_count": 2,
      "outputs": []
    },
    {
      "cell_type": "code",
      "metadata": {
        "colab": {
          "base_uri": "https://localhost:8080/"
        },
        "id": "5DCxk5Mb95s-",
        "outputId": "c910b8ca-667f-4516-d731-e389e18f198e"
      },
      "source": [
        "from google.colab import drive\n",
        "drive.mount('/content/drive')"
      ],
      "execution_count": 3,
      "outputs": [
        {
          "output_type": "stream",
          "name": "stdout",
          "text": [
            "Drive already mounted at /content/drive; to attempt to forcibly remount, call drive.mount(\"/content/drive\", force_remount=True).\n"
          ]
        }
      ]
    },
    {
      "cell_type": "code",
      "metadata": {
        "id": "B13lR1DssNWx"
      },
      "source": [
        "data.head()"
      ],
      "execution_count": null,
      "outputs": []
    },
    {
      "cell_type": "code",
      "metadata": {
        "id": "IzkglWF3sT3Q"
      },
      "source": [
        "data=data.drop(columns=['id','F10','F11'])"
      ],
      "execution_count": 5,
      "outputs": []
    },
    {
      "cell_type": "code",
      "metadata": {
        "id": "DsTUT2ZMspwk"
      },
      "source": [
        "data.head()"
      ],
      "execution_count": null,
      "outputs": []
    },
    {
      "cell_type": "code",
      "metadata": {
        "id": "hfHwCN16OU_1"
      },
      "source": [
        "import pandas as pd\n",
        "import sklearn as sk\n",
        "from sklearn.linear_model import LogisticRegression\n",
        "from sklearn import svm\n",
        "from sklearn.ensemble import RandomForestClassifier\n",
        "from sklearn.neural_network import MLPClassifier\n",
        "\n",
        "train = pd.read_csv('/content/drive/MyDrive/Data Mining/HW2_credit_train.csv')\n",
        "test = pd.read_csv('/content/drive/MyDrive/Data Mining/HW2_credit_test.csv', sep=',',header=0)\n",
        "train=train.drop(columns=['id','F10','F11'])\n",
        "test=test.drop(columns=['id','F10','F11'])\n",
        "y_tr = train.iloc[:,9]\n",
        "X_tr = train.iloc[:,0:9]\n",
        "\n",
        "\n",
        "X_test = test.iloc[:,:]\n",
        "\n",
        "LR = LogisticRegression(random_state=0, solver='lbfgs', multi_class='multinomial').fit(X_tr, y_tr)\n",
        "l=LR.predict(X_test)\n",
        "print(LR.score(X_tr,y_tr))\n",
        "\n",
        "SVM = svm.SVC(decision_function_shape=\"ovo\").fit(X_tr, y_tr)\n",
        "s=SVM.predict(X_test)\n",
        "print(SVM.score(X_tr,y_tr))\n",
        "\n",
        "\n",
        "RF = RandomForestClassifier(n_estimators=10, max_depth=10, random_state=0).fit(X_tr, y_tr)\n",
        "r=RF.predict(X_test)\n",
        "print(RF.score(X_tr,y_tr))\n",
        "\n",
        "NN = MLPClassifier(solver='lbfgs', alpha=1e-5, hidden_layer_sizes=(5, 10), random_state=1).fit(X_tr, y_tr)\n",
        "n=NN.predict(X_test)\n",
        "print(NN.score(X_tr,y_tr))"
      ],
      "execution_count": null,
      "outputs": []
    },
    {
      "cell_type": "code",
      "metadata": {
        "id": "UiY3bz4yg6Dy"
      },
      "source": [
        "## result file created here . Run this for test data run\n",
        "f = open(\"result_reg.txt\", \"w\")\n",
        "for i in list(l):\n",
        "    if i==1:\n",
        "        f.write(\"1\\n\")\n",
        "    else:\n",
        "        f.write(\"0\\n\")\n",
        "f.close()"
      ],
      "execution_count": null,
      "outputs": []
    },
    {
      "cell_type": "code",
      "metadata": {
        "id": "u1lGYUZgg7CH"
      },
      "source": [
        "## result file created here . Run this for test data run\n",
        "f = open(\"result_svm.txt\", \"w\")\n",
        "for i in list(s):\n",
        "    if i==1:\n",
        "        f.write(\"1\\n\")\n",
        "    else:\n",
        "        f.write(\"0\\n\")\n",
        "f.close()"
      ],
      "execution_count": null,
      "outputs": []
    },
    {
      "cell_type": "code",
      "metadata": {
        "id": "yEjmsYwHg7es"
      },
      "source": [
        "## result file created here . Run this for test data run\n",
        "f = open(\"result_rf.txt\", \"w\")\n",
        "for i in list(r):\n",
        "    if i==1:\n",
        "        f.write(\"1\\n\")\n",
        "    else:\n",
        "        f.write(\"0\\n\")\n",
        "f.close()"
      ],
      "execution_count": 10,
      "outputs": []
    },
    {
      "cell_type": "code",
      "metadata": {
        "id": "6wsUk_RKg70m"
      },
      "source": [
        "## result file created here . Run this for test data run\n",
        "f = open(\"result_nn.txt\", \"w\")\n",
        "for i in list(n):\n",
        "    if i==1:\n",
        "        f.write(\"1\\n\")\n",
        "    else:\n",
        "        f.write(\"0\\n\")\n",
        "f.close()"
      ],
      "execution_count": null,
      "outputs": []
    }
  ]
}