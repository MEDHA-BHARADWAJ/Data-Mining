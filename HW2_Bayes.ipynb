{
  "nbformat": 4,
  "nbformat_minor": 0,
  "metadata": {
    "colab": {
      "name": "HW2_Bayes.ipynb",
      "provenance": []
    },
    "kernelspec": {
      "name": "python3",
      "display_name": "Python 3"
    },
    "language_info": {
      "name": "python"
    }
  },
  "cells": [
    {
      "cell_type": "code",
      "metadata": {
        "id": "uA8xoB-935ck"
      },
      "source": [
        "import io\n",
        "import csv\n",
        "import string\n",
        "import pandas as pd\n",
        "import sklearn\n",
        "import numpy as np\n",
        "\n",
        "from sklearn.model_selection import train_test_split # Import train_test_split function\n",
        "from sklearn import metrics #Import scikit-learn metrics module for accuracy calculation\n",
        "from sklearn.naive_bayes import GaussianNB\n",
        "from sklearn import datasets\n",
        "  "
      ],
      "execution_count": 1,
      "outputs": []
    },
    {
      "cell_type": "code",
      "metadata": {
        "id": "QYZE9WGt41xZ"
      },
      "source": [
        "file = open(\"/content/drive/MyDrive/Data Mining/HW2_credit_train.csv\",\"r\")\n",
        "col_names = ['id','yag','workhrs','val','occ','gain','loss','ms','emptyp','edytyp','race','gender','credit']\n",
        "trainingData = pd.read_csv(file)\n",
        "\n",
        "trainingData =  pd.DataFrame(trainingData)\n",
        "trainingData.columns = col_names\n",
        "print(trainingData)\n"
      ],
      "execution_count": null,
      "outputs": []
    },
    {
      "cell_type": "code",
      "metadata": {
        "id": "ployun8F5AXp"
      },
      "source": [
        "file = open(\"/content/drive/MyDrive/Data Mining/HW2_credit_test.csv\",\"r\")\n",
        "col_names = ['id','yag','workhrs','val','occ','gain','loss','ms','emptyp','edytyp','race','gender']\n",
        "testData = pd.read_csv(file)\n",
        "\n",
        "testData =  pd.DataFrame(testData)\n",
        "testData.columns = col_names\n",
        "print(testData)\n"
      ],
      "execution_count": null,
      "outputs": []
    },
    {
      "cell_type": "code",
      "metadata": {
        "id": "_N8-OxU55HBi"
      },
      "source": [
        "feature_cols = ['yag','workhrs','val','occ','gain','loss','ms','emptyp','edytyp'] ## here id , gender and race have not been used as features\n",
        "X = trainingData[feature_cols]\n",
        "y = trainingData.credit\n",
        "\n",
        "X_train,X_test,y_train,y_test = train_test_split(X, y, test_size=0.3, random_state=1)\n"
      ],
      "execution_count": 4,
      "outputs": []
    },
    {
      "cell_type": "code",
      "metadata": {
        "id": "FWBg6SSk5PcI"
      },
      "source": [
        "## though the other variables like emptyp,edytyp , ms , occ , val are all supposed to be categorical they are of the datatype int64 \n",
        "#and have already been normalised and hence their normalisation has not been considered here\n",
        "#one-hot encoding for categorical features gender and race is being checked here\n",
        "cat_features = trainingData.select_dtypes(include=['object']).copy() \n",
        "print(cat_features)\n",
        "\n",
        "from sklearn.preprocessing import LabelBinarizer\n",
        "\n",
        "lb_race = LabelBinarizer()\n",
        "lb_results_race = lb_race.fit_transform(cat_features['race'])\n",
        "lb_results_df_race = pd.DataFrame(lb_results_race, columns=lb_race.classes_)\n",
        "\n",
        "print(lb_results_df_race.head())\n"
      ],
      "execution_count": null,
      "outputs": []
    },
    {
      "cell_type": "code",
      "metadata": {
        "id": "icNhBZUB5gjn"
      },
      "source": [
        "def bayesian_class(X_train,y_train,X_test):\n",
        "  model = GaussianNB()\n",
        "  model.fit(X_train,y_train)\n",
        "  y_pred = model.predict(X_test)\n",
        "  return y_pred  "
      ],
      "execution_count": 6,
      "outputs": []
    },
    {
      "cell_type": "code",
      "metadata": {
        "colab": {
          "base_uri": "https://localhost:8080/"
        },
        "id": "ob8eG53G5WPf",
        "outputId": "f336f112-024b-4014-cfaa-74a0fbc0b448"
      },
      "source": [
        "y_pred = bayesian_class(X_train,y_train,X_test)\n",
        "print(\"Accuracy:\",metrics.accuracy_score(y_test, y_pred))"
      ],
      "execution_count": 7,
      "outputs": [
        {
          "output_type": "stream",
          "name": "stdout",
          "text": [
            "Accuracy: 0.8044835704780428\n"
          ]
        }
      ]
    },
    {
      "cell_type": "code",
      "metadata": {
        "colab": {
          "base_uri": "https://localhost:8080/"
        },
        "id": "38BLnevA7LyY",
        "outputId": "a3d12944-a20d-4118-9b30-bc52f27b0ac9"
      },
      "source": [
        "from sklearn.metrics import f1_score\n",
        "\n",
        "f1_score(y_test, y_pred, average='macro')"
      ],
      "execution_count": 8,
      "outputs": [
        {
          "output_type": "execute_result",
          "data": {
            "text/plain": [
              "0.6485594750516798"
            ]
          },
          "metadata": {},
          "execution_count": 8
        }
      ]
    },
    {
      "cell_type": "code",
      "metadata": {
        "colab": {
          "base_uri": "https://localhost:8080/"
        },
        "id": "tIVRtsyN5cx4",
        "outputId": "fc936838-2b15-49d8-cb95-fc752bb58c6b"
      },
      "source": [
        "test_X = testData[feature_cols]\n",
        "result = bayesian_class(X,y,test_X)\n",
        "print(result)"
      ],
      "execution_count": 9,
      "outputs": [
        {
          "output_type": "stream",
          "name": "stdout",
          "text": [
            "[0 0 1 ... 0 0 1]\n"
          ]
        }
      ]
    },
    {
      "cell_type": "code",
      "metadata": {
        "id": "Xx1vFNPl5e_i"
      },
      "source": [
        "## result file created here . Run this for test data run\n",
        "f = open(\"result_decision_tree.txt\", \"w\")\n",
        "for i in list(result):\n",
        "    if i==1:\n",
        "        f.write(\"1\\n\")\n",
        "    else:\n",
        "        f.write(\"0\\n\")\n",
        "f.close()"
      ],
      "execution_count": 10,
      "outputs": []
    }
  ]
}